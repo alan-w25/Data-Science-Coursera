{
 "cells": [
  {
   "cell_type": "markdown",
   "id": "150ec8dd-db12-4423-a933-5a4fe8e996cd",
   "metadata": {},
   "source": [
    "<h1>Data Science Tools and Ecosystem<h1>"
   ]
  },
  {
   "cell_type": "markdown",
   "id": "1e52595b-d6ea-4c54-a0d1-a9a9877c84c5",
   "metadata": {},
   "source": [
    "In this notebook, Data Science Tools and Ecosystem are summarized.Some of the popular languages that Data Scientists use are:\n"
   ]
  },
  {
   "cell_type": "markdown",
   "id": "dfb31baa-fcd3-4459-954e-fbe73f47d1da",
   "metadata": {},
   "source": [
    "Some of the popular languages that Data Scientists use are:\n",
    "1. Python\n",
    "2. R Programming Language\n",
    "3. SQL"
   ]
  },
  {
   "cell_type": "markdown",
   "id": "744dba15-f09d-4a56-9b07-7806ca3e9fd8",
   "metadata": {},
   "source": [
    "Some of the commonly used libraries used by Data Scientists include:\n",
    "1. Pandas\n",
    "2. Numpy\n",
    "3. Dplyr"
   ]
  },
  {
   "cell_type": "markdown",
   "id": "373592e9-54b1-4fc5-aba3-0a59376e7582",
   "metadata": {},
   "source": [
    "| Data Science Tools |\n",
    "| --- |\n",
    "| Visual Studio Code |\n",
    "|RStudio             |\n",
    "|Jupyter Notebook    | "
   ]
  },
  {
   "cell_type": "markdown",
   "id": "423dd32c-c22a-41b5-80c0-6549472c3188",
   "metadata": {},
   "source": [
    "<h3>Below are a few examples of evaluating arithmetic expressions in Python.<h3>"
   ]
  },
  {
   "cell_type": "code",
   "execution_count": 2,
   "id": "1f9fa84f-5783-4ae1-83af-453886e5d64e",
   "metadata": {
    "tags": []
   },
   "outputs": [
    {
     "data": {
      "text/plain": [
       "17"
      ]
     },
     "execution_count": 2,
     "metadata": {},
     "output_type": "execute_result"
    }
   ],
   "source": [
    "#This a simple arithmetic expression to mutiply then add integers\n",
    "(3 * 4) + 5"
   ]
  },
  {
   "cell_type": "code",
   "execution_count": 3,
   "id": "5fb8fdce-1dc1-480f-9fbb-e8f3dc1b61d6",
   "metadata": {
    "tags": []
   },
   "outputs": [
    {
     "data": {
      "text/plain": [
       "3.3333333333333335"
      ]
     },
     "execution_count": 3,
     "metadata": {},
     "output_type": "execute_result"
    }
   ],
   "source": [
    "#This will convert 200 minutes to hours by diving by 60.\n",
    "\n",
    "minutes = 200 \n",
    "minutes/60"
   ]
  },
  {
   "cell_type": "markdown",
   "id": "2d441c88-257f-4ee7-ab14-3a0910e99e87",
   "metadata": {},
   "source": [
    "<strong>Objectives: <strong>\n",
    "* List popular languages for data science\n",
    "* Understand what data science means in modern context\n",
    "* Give examples of tools that data scientists use to analyze data"
   ]
  },
  {
   "cell_type": "markdown",
   "id": "cfacd553-a6af-4d00-944a-a9796da3f292",
   "metadata": {},
   "source": [
    "<h2>Author<h2>\n",
    "    \n",
    "Alan Wu"
   ]
  },
  {
   "cell_type": "code",
   "execution_count": null,
   "id": "e59e8d39-98e2-4dcf-b907-ce405e97d61b",
   "metadata": {},
   "outputs": [],
   "source": []
  }
 ],
 "metadata": {
  "kernelspec": {
   "display_name": "Python",
   "language": "python",
   "name": "conda-env-python-py"
  },
  "language_info": {
   "codemirror_mode": {
    "name": "ipython",
    "version": 3
   },
   "file_extension": ".py",
   "mimetype": "text/x-python",
   "name": "python",
   "nbconvert_exporter": "python",
   "pygments_lexer": "ipython3",
   "version": "3.7.12"
  }
 },
 "nbformat": 4,
 "nbformat_minor": 5
}
